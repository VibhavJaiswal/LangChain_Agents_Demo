{
 "cells": [
  {
   "cell_type": "markdown",
   "id": "pf5KKjH8omcU",
   "metadata": {
    "id": "pf5KKjH8omcU"
   },
   "source": [
    "# **Demo: Langchain Agents**"
   ]
  },
  {
   "cell_type": "markdown",
   "id": "olGHNznfVRjO",
   "metadata": {
    "id": "olGHNznfVRjO"
   },
   "source": [
    "# **Description:**\n",
    "In this activity, you will learn how to utilize LangChain agents. You will grasp the process of creating and initializing an agent, loading tools, and employing the agent to pose questions and obtain answers.\n"
   ]
  },
  {
   "cell_type": "markdown",
   "id": "JbJGoJNnosUM",
   "metadata": {
    "id": "JbJGoJNnosUM"
   },
   "source": [
    "# **Steps to Perform:**\n",
    "\n",
    "1. Import the Necessary Modules\n",
    "2. Initialize the Chat Model\n",
    "3. Load the Tools\n",
    "4. Initialize Agent\n",
    "5. Use Agent to Ask Questions\n",
    "6. Use Agent to Ask Another Question\n"
   ]
  },
  {
   "cell_type": "markdown",
   "id": "a2hHxVaPVfmz",
   "metadata": {
    "id": "a2hHxVaPVfmz"
   },
   "source": [
    "# **Step 1: Import the Necessary Modules**\n",
    "\n"
   ]
  },
  {
   "cell_type": "code",
   "execution_count": 1,
   "id": "d9b76cd5-16e2-4c0c-8872-aaa4855b5bdf",
   "metadata": {
    "id": "d9b76cd5-16e2-4c0c-8872-aaa4855b5bdf"
   },
   "outputs": [],
   "source": [
    "from langchain.agents import load_tools, initialize_agent\n",
    "from langchain.agents import AgentType\n",
    "from langchain.chat_models import ChatOpenAI"
   ]
  },
  {
   "cell_type": "markdown",
   "id": "Gm_WS41tVq4A",
   "metadata": {
    "id": "Gm_WS41tVq4A"
   },
   "source": [
    "# **Step 2: Initialize the Chat Model**\n",
    "\n",
    "\n",
    "\n"
   ]
  },
  {
   "cell_type": "code",
   "execution_count": 2,
   "id": "54bca19b-ef4b-4ea1-a61d-21788dfb3db4",
   "metadata": {
    "id": "54bca19b-ef4b-4ea1-a61d-21788dfb3db4"
   },
   "outputs": [
    {
     "name": "stderr",
     "output_type": "stream",
     "text": [
      "C:\\Users\\mailv\\AppData\\Local\\Temp\\ipykernel_2644\\1568830777.py:1: LangChainDeprecationWarning: The class `ChatOpenAI` was deprecated in LangChain 0.0.10 and will be removed in 1.0. An updated version of the class exists in the :class:`~langchain-openai package and should be used instead. To use it run `pip install -U :class:`~langchain-openai` and import as `from :class:`~langchain_openai import ChatOpenAI``.\n",
      "  llm_model = ChatOpenAI(temperature=0.0)\n"
     ]
    }
   ],
   "source": [
    "llm_model = ChatOpenAI(temperature=0.0)"
   ]
  },
  {
   "cell_type": "code",
   "execution_count": 3,
   "id": "dab12150-4913-41d1-9659-295d540931c2",
   "metadata": {},
   "outputs": [],
   "source": [
    "# pip install wikipedia"
   ]
  },
  {
   "cell_type": "markdown",
   "id": "H-6O-EmJVweb",
   "metadata": {
    "id": "H-6O-EmJVweb"
   },
   "source": [
    "# **Step 3: Load the Tools**\n",
    "\n",
    "\n",
    "*   Load **llm-math** for math operations and **wikipedia** for accessing Wikipedia data\n",
    "\n",
    "\n",
    "\n"
   ]
  },
  {
   "cell_type": "code",
   "execution_count": 4,
   "id": "3ab99081-3df3-42af-adec-51a770c959be",
   "metadata": {
    "id": "3ab99081-3df3-42af-adec-51a770c959be"
   },
   "outputs": [],
   "source": [
    "tools = load_tools([\"llm-math\",\"wikipedia\"], llm=llm_model)"
   ]
  },
  {
   "cell_type": "markdown",
   "id": "Rf37LLxoV2-5",
   "metadata": {
    "id": "Rf37LLxoV2-5"
   },
   "source": [
    "# **Step 4: Initialize Agent**\n",
    "\n",
    "\n",
    "*   Initialize the agent with the tools loaded, the chat model, and specify the agent type as **CHAT_ZERO_SHOT_REACT_DESCRIPTION**\n"
   ]
  },
  {
   "cell_type": "code",
   "execution_count": 5,
   "id": "76acced2-8058-447f-b28e-d27842bd14b4",
   "metadata": {
    "id": "76acced2-8058-447f-b28e-d27842bd14b4"
   },
   "outputs": [
    {
     "name": "stderr",
     "output_type": "stream",
     "text": [
      "C:\\Users\\mailv\\AppData\\Local\\Temp\\ipykernel_2644\\681844584.py:1: LangChainDeprecationWarning: LangChain agents will continue to be supported, but it is recommended for new use cases to be built with LangGraph. LangGraph offers a more flexible and full-featured framework for building agents, including support for tool-calling, persistence of state, and human-in-the-loop workflows. For details, refer to the `LangGraph documentation <https://langchain-ai.github.io/langgraph/>`_ as well as guides for `Migrating from AgentExecutor <https://python.langchain.com/docs/how_to/migrate_agent/>`_ and LangGraph's `Pre-built ReAct agent <https://langchain-ai.github.io/langgraph/how-tos/create-react-agent/>`_.\n",
      "  agent= initialize_agent(\n"
     ]
    }
   ],
   "source": [
    "agent= initialize_agent(\n",
    "    tools,\n",
    "    llm_model,\n",
    "    agent=AgentType.CHAT_ZERO_SHOT_REACT_DESCRIPTION,\n",
    "    handle_parsing_errors=True,\n",
    "    verbose = False)"
   ]
  },
  {
   "cell_type": "markdown",
   "id": "7GPb4P2GV8kc",
   "metadata": {
    "id": "7GPb4P2GV8kc"
   },
   "source": [
    "# **Step 5: Use Agent to Ask Questions**\n",
    "\n",
    "\n"
   ]
  },
  {
   "cell_type": "code",
   "execution_count": 6,
   "id": "55257b94-7502-4a6c-b091-244155166d30",
   "metadata": {
    "id": "55257b94-7502-4a6c-b091-244155166d30",
    "outputId": "e80c8078-1b42-44f5-b77d-11b99d7ad2e5"
   },
   "outputs": [
    {
     "name": "stderr",
     "output_type": "stream",
     "text": [
      "C:\\Users\\mailv\\AppData\\Local\\Temp\\ipykernel_2644\\1420904397.py:1: LangChainDeprecationWarning: The method `Chain.__call__` was deprecated in langchain 0.1.0 and will be removed in 1.0. Use :meth:`~invoke` instead.\n",
      "  agent(\"What is the square root of 16?\")\n"
     ]
    },
    {
     "data": {
      "text/plain": [
       "{'input': 'What is the square root of 16?',\n",
       " 'output': 'The square root of 16 is 4.0'}"
      ]
     },
     "execution_count": 6,
     "metadata": {},
     "output_type": "execute_result"
    }
   ],
   "source": [
    "agent(\"What is the square root of 16?\")"
   ]
  },
  {
   "cell_type": "markdown",
   "id": "6L90rCVGWEN0",
   "metadata": {
    "id": "6L90rCVGWEN0"
   },
   "source": [
    "# **Step 6: Use Agent to Ask Another Question**\n",
    "\n",
    "\n",
    "\n"
   ]
  },
  {
   "cell_type": "code",
   "execution_count": 7,
   "id": "3deb286e-cfe6-46ee-ad0d-534e238b6859",
   "metadata": {
    "colab": {
     "base_uri": "https://localhost:8080/",
     "height": 193
    },
    "id": "3deb286e-cfe6-46ee-ad0d-534e238b6859",
    "outputId": "ff9ce793-63fb-42f1-80ad-1bd61aaf30f9"
   },
   "outputs": [],
   "source": [
    "question = \"Alan Turing was a British mathematician and computer scientist, what is he famous for?\"\n",
    "result = agent(question)"
   ]
  },
  {
   "cell_type": "code",
   "execution_count": 8,
   "id": "fd436bef-6e15-4d95-a8b8-0a62a3880a62",
   "metadata": {
    "id": "fd436bef-6e15-4d95-a8b8-0a62a3880a62"
   },
   "outputs": [
    {
     "data": {
      "text/plain": [
       "{'input': 'Alan Turing was a British mathematician and computer scientist, what is he famous for?',\n",
       " 'output': 'Alan Turing is famous for his significant contributions to theoretical computer science, including the formalization of the concepts of algorithm and computation with the Turing machine, which is considered a model of a general-purpose computer. He is widely regarded as the father of theoretical computer science.'}"
      ]
     },
     "execution_count": 8,
     "metadata": {},
     "output_type": "execute_result"
    }
   ],
   "source": [
    "result"
   ]
  },
  {
   "cell_type": "markdown",
   "id": "JLUHYdnGWLps",
   "metadata": {
    "id": "JLUHYdnGWLps"
   },
   "source": [
    "# **Conclusion**\n",
    "By the end of this activity, you have a clear understanding of how to use LangChain agents. You’ve learned how to create and initialize an agent, load tools, and use the agent to ask questions and get answers.\n"
   ]
  },
  {
   "cell_type": "code",
   "execution_count": 9,
   "id": "30cca7b0-d224-435a-8be3-6876fa9a09fa",
   "metadata": {},
   "outputs": [],
   "source": [
    "import os\n",
    "tool=load_tools([\"serpapi\"], serpapi_api_key=os.environ[\"SERPAPI_KEY\"],llm=llm_model)"
   ]
  },
  {
   "cell_type": "code",
   "execution_count": 10,
   "id": "52133000-85e7-4942-a417-8e61d434c844",
   "metadata": {},
   "outputs": [],
   "source": [
    "# pip install google-search-results"
   ]
  },
  {
   "cell_type": "code",
   "execution_count": 11,
   "id": "3f33af8b-460f-4327-aed5-19b8413b89f9",
   "metadata": {},
   "outputs": [],
   "source": [
    "agent = initialize_agent(tool, llm_model, agent=AgentType.ZERO_SHOT_REACT_DESCRIPTION, verbose=True)"
   ]
  },
  {
   "cell_type": "code",
   "execution_count": 12,
   "id": "e47fa68f-4ca9-420a-8ba1-2b226718f31f",
   "metadata": {},
   "outputs": [
    {
     "name": "stderr",
     "output_type": "stream",
     "text": [
      "C:\\Users\\mailv\\AppData\\Local\\Temp\\ipykernel_2644\\2054555609.py:1: LangChainDeprecationWarning: The method `Chain.run` was deprecated in langchain 0.1.0 and will be removed in 1.0. Use :meth:`~invoke` instead.\n",
      "  agent.run(\"what was the price of gold yesterday in the US\")\n"
     ]
    },
    {
     "name": "stdout",
     "output_type": "stream",
     "text": [
      "\n",
      "\n",
      "\u001b[1m> Entering new AgentExecutor chain...\u001b[0m\n",
      "\u001b[32;1m\u001b[1;3mI should use the search tool to find the price of gold yesterday in the US.\n",
      "Action: Search\n",
      "Action Input: \"gold price yesterday US\"\u001b[0m\n",
      "Observation: \u001b[36;1m\u001b[1;3m{'type': 'organic_result', 'title': 'Today Gold Price in USA, 22 & 24 Carat Gold Rate in USD ...', 'source': 'Goodreturns', 'description': 'Today 24 Carat Gold Rate Per Gram in United States (USD)'}\u001b[0m\n",
      "Thought:\u001b[32;1m\u001b[1;3mThe search results show the current gold price, not yesterday's price. I should try a different search query.\n",
      "Action: Search\n",
      "Action Input: \"gold price on [yesterday's date] US\"\u001b[0m\n",
      "Observation: \u001b[36;1m\u001b[1;3m[' entity_type: related_questions.', 'Explore the dynamic journey of gold prices through history, from the gold standard era to the present day, highlighting significant fluctuations.', 'GOLDPRICE.ORG - The No. 1 gold price site for fast loading live gold price charts in ounces, grams and kilos in every national currency in the world.', 'Gold Price Performance USD ; 30 Days, +72.89, +2.59% ; 6 Months, +374.19, +14.86% ; 1 Year, +763.28, +35.86% ; 5 Year, +1,225.29, +73.53%.', 'Gold surged to $2,915 per once on Tuesday, approaching the record high $2,950 touched last week after the US implemented tariffs on major trading partners ...', 'Gold Price History USD per Ounce. Au. Current Price. $2,834.56. Alltime Change. 8056.98% $2,799.81. Alltime high $2,953.06. Alltime low $34.75.', 'Discover historical prices for GC=F stock on Yahoo Finance. View daily, weekly or monthly format back to when Gold Apr 25 stock was issued.', 'Gold Futures Historical Data ; Highest: 2,973.40 ; Change %:. 2.38 ; Average: 2,915.68 ; Difference: 136.00 ; Lowest: 2,837.40.', 'The price of gold in United States today is $93.50 per gram for 24 karat gold, $88 per gram for 22 karat gold and $72 per gram for 18 karat gold (also ...', 'Gold Price in US Dollars is at a current level of 2834.60, down from 2880.80 the previous market day and up from 2048.10 one year ago. This is a change of -1.60 ...', 'Gold Price in USD per Gram for Last 6 Months. Au. Current Price. $93.70. 6 Month Change. 16.85% $13.51. 6 Month high $95.11. 6 Month low $79.92.']\u001b[0m\n",
      "Thought:\u001b[32;1m\u001b[1;3mThe search results provide historical data on the price of gold, but not specifically for yesterday. I should try a different approach.\n",
      "Action: Search\n",
      "Action Input: \"gold price on [specific date] US\"\u001b[0m\n",
      "Observation: \u001b[36;1m\u001b[1;3m[' entity_type: related_questions.', 'Annual Gold Prices since 1970 ; 2019, $1,393.86, $1,282.51 ; 2018, $1,269.69, $1,302.60 ; 2017, $1,258.70, $1,152.00 ; 2016, $1,249.44, $1,068.89 ...', 'Gold Price Performance USD ; 30 Days, +40.66, +1.44% ; 6 Months, +363.42, +14.56% ; 1 Year, +744.81, +35.22% ; 5 Year, +1,218.36, +74.24%.', 'Gold Price Performance USD ; 6 Months, +363.42, +14.56% ; 1 Year, +744.81, +35.22% ; 5 Year, +1,218.36, +74.24% ; 20 Years, +2,427.08, +561.33%.', 'Gold Price in US Dollars is at a current level of 2834.60, down from 2880.80 the previous market day and up from 2048.10 one year ago. This is a change of -1.60 ...', 'Gold Futures historical prices: closing price, open, high, low, change and %change of the Gold Futures for the selected range of dates.', 'Discover historical prices for GC=F stock on Yahoo Finance. View daily, weekly or monthly format back to when Gold Apr 25 stock was issued.', 'View the all-time historical gold price from 1970 to the present via our fast loading chart. Use the zoom tool below the chart to view the view any time ...', 'This data set provides the gold price over a range of timeframes (daily, weekly, monthly, annually) going back to 1978, and in the major trading, producer, and ...']\u001b[0m\n",
      "Thought:\u001b[32;1m\u001b[1;3mThe search results still do not provide the specific price of gold yesterday in the US. I should try a different approach.\n",
      "Action: Search\n",
      "Action Input: \"gold price on [specific date] US historical data\"\u001b[0m\n",
      "Observation: \u001b[36;1m\u001b[1;3m[' entity_type: related_questions.', 'Annual Gold Prices since 1970 ; 2020, $1,771.07, $1,517.24 ; 2019, $1,393.86, $1,282.51 ; 2018, $1,269.69, $1,302.60 ; 2017, $1,258.70, $1,152.00 ...', 'Gold Price Performance USD ; 30 Days, +40.66, +1.44% ; 6 Months, +363.42, +14.56% ; 1 Year, +744.81, +35.22% ; 5 Year, +1,218.36, +74.24%.', 'Gold Price Performance USD ; 6 Months, +363.42, +14.56% ; 1 Year, +744.81, +35.22% ; 5 Year, +1,218.36, +74.24% ; 20 Years, +2,427.08, +561.33%.', 'Gold Futures historical prices: closing price, open, high, low, change and %change of the Gold Futures for the selected range of dates.', 'This data set provides the gold price over a range of timeframes (daily, weekly, monthly, annually) going back to 1978, and in the major trading, producer, and ...', 'Discover historical prices for GC=F stock on Yahoo Finance. View daily, weekly or monthly format back to when Gold Apr 25 stock was issued.', 'Starting at $19.75 per troy ounce, raised to $20.67 in 1834, and $35 in 1934. In 1972, the price was raised to $38 and then to $42.22 in 1973.', 'View the all-time historical gold price from 1970 to the present via our fast loading chart. Use the zoom tool below the chart to view the view any time ...']\u001b[0m\n",
      "Thought:\u001b[32;1m\u001b[1;3mThe search results still do not provide the specific price of gold yesterday in the US. I should try a different approach.\n",
      "Action: Search\n",
      "Action Input: \"gold price on [specific date] US historical data\"\u001b[0m\n",
      "Observation: \u001b[36;1m\u001b[1;3m[' entity_type: related_questions.', 'Annual Gold Prices since 1970 ; 2020, $1,771.07, $1,517.24 ; 2019, $1,393.86, $1,282.51 ; 2018, $1,269.69, $1,302.60 ; 2017, $1,258.70, $1,152.00 ...', 'Gold Price Performance USD ; 30 Days, +40.66, +1.44% ; 6 Months, +363.42, +14.56% ; 1 Year, +744.81, +35.22% ; 5 Year, +1,218.36, +74.24%.', 'Gold Price Performance USD ; 6 Months, +363.42, +14.56% ; 1 Year, +744.81, +35.22% ; 5 Year, +1,218.36, +74.24% ; 20 Years, +2,427.08, +561.33%.', 'Gold Futures historical prices: closing price, open, high, low, change and %change of the Gold Futures for the selected range of dates.', 'This data set provides the gold price over a range of timeframes (daily, weekly, monthly, annually) going back to 1978, and in the major trading, producer, and ...', 'Discover historical prices for GC=F stock on Yahoo Finance. View daily, weekly or monthly format back to when Gold Apr 25 stock was issued.', 'Starting at $19.75 per troy ounce, raised to $20.67 in 1834, and $35 in 1934. In 1972, the price was raised to $38 and then to $42.22 in 1973.', 'View the all-time historical gold price from 1970 to the present via our fast loading chart. Use the zoom tool below the chart to view the view any time ...']\u001b[0m\n",
      "Thought:\u001b[32;1m\u001b[1;3mThe search results are not providing the specific price of gold yesterday in the US. I should try a different approach.\n",
      "Action: Search\n",
      "Action Input: \"gold price on [specific date] US historical data\"\u001b[0m\n",
      "Observation: \u001b[36;1m\u001b[1;3m[' entity_type: related_questions.', 'Annual Gold Prices since 1970 ; 2020, $1,771.07, $1,517.24 ; 2019, $1,393.86, $1,282.51 ; 2018, $1,269.69, $1,302.60 ; 2017, $1,258.70, $1,152.00 ...', 'Gold Price Performance USD ; 30 Days, +40.66, +1.44% ; 6 Months, +363.42, +14.56% ; 1 Year, +744.81, +35.22% ; 5 Year, +1,218.36, +74.24%.', 'Gold Price Performance USD ; 6 Months, +363.42, +14.56% ; 1 Year, +744.81, +35.22% ; 5 Year, +1,218.36, +74.24% ; 20 Years, +2,427.08, +561.33%.', 'Gold Futures historical prices: closing price, open, high, low, change and %change of the Gold Futures for the selected range of dates.', 'This data set provides the gold price over a range of timeframes (daily, weekly, monthly, annually) going back to 1978, and in the major trading, producer, and ...', 'Discover historical prices for GC=F stock on Yahoo Finance. View daily, weekly or monthly format back to when Gold Apr 25 stock was issued.', 'Starting at $19.75 per troy ounce, raised to $20.67 in 1834, and $35 in 1934. In 1972, the price was raised to $38 and then to $42.22 in 1973.', 'View the all-time historical gold price from 1970 to the present via our fast loading chart. Use the zoom tool below the chart to view the view any time ...']\u001b[0m\n",
      "Thought:\u001b[32;1m\u001b[1;3mThe search results are not providing the specific price of gold yesterday in the US. I should try a different approach.\n",
      "Action: Search\n",
      "Action Input: \"gold price on [specific date] US historical data\"\u001b[0m\n",
      "Observation: \u001b[36;1m\u001b[1;3m[' entity_type: related_questions.', 'Annual Gold Prices since 1970 ; 2020, $1,771.07, $1,517.24 ; 2019, $1,393.86, $1,282.51 ; 2018, $1,269.69, $1,302.60 ; 2017, $1,258.70, $1,152.00 ...', 'Gold Price Performance USD ; 30 Days, +40.66, +1.44% ; 6 Months, +363.42, +14.56% ; 1 Year, +744.81, +35.22% ; 5 Year, +1,218.36, +74.24%.', 'Gold Price Performance USD ; 6 Months, +363.42, +14.56% ; 1 Year, +744.81, +35.22% ; 5 Year, +1,218.36, +74.24% ; 20 Years, +2,427.08, +561.33%.', 'Gold Futures historical prices: closing price, open, high, low, change and %change of the Gold Futures for the selected range of dates.', 'This data set provides the gold price over a range of timeframes (daily, weekly, monthly, annually) going back to 1978, and in the major trading, producer, and ...', 'Discover historical prices for GC=F stock on Yahoo Finance. View daily, weekly or monthly format back to when Gold Apr 25 stock was issued.', 'Starting at $19.75 per troy ounce, raised to $20.67 in 1834, and $35 in 1934. In 1972, the price was raised to $38 and then to $42.22 in 1973.', 'View the all-time historical gold price from 1970 to the present via our fast loading chart. Use the zoom tool below the chart to view the view any time ...']\u001b[0m\n",
      "Thought:\u001b[32;1m\u001b[1;3mThe search results are not providing the specific price of gold yesterday in the US. I should try a different approach.\n",
      "Action: Search\n",
      "Action Input: \"gold price on [specific date] US historical data\"\u001b[0m\n",
      "Observation: \u001b[36;1m\u001b[1;3m[' entity_type: related_questions.', 'Annual Gold Prices since 1970 ; 2020, $1,771.07, $1,517.24 ; 2019, $1,393.86, $1,282.51 ; 2018, $1,269.69, $1,302.60 ; 2017, $1,258.70, $1,152.00 ...', 'Gold Price Performance USD ; 30 Days, +40.66, +1.44% ; 6 Months, +363.42, +14.56% ; 1 Year, +744.81, +35.22% ; 5 Year, +1,218.36, +74.24%.', 'Gold Price Performance USD ; 6 Months, +363.42, +14.56% ; 1 Year, +744.81, +35.22% ; 5 Year, +1,218.36, +74.24% ; 20 Years, +2,427.08, +561.33%.', 'Gold Futures historical prices: closing price, open, high, low, change and %change of the Gold Futures for the selected range of dates.', 'This data set provides the gold price over a range of timeframes (daily, weekly, monthly, annually) going back to 1978, and in the major trading, producer, and ...', 'Discover historical prices for GC=F stock on Yahoo Finance. View daily, weekly or monthly format back to when Gold Apr 25 stock was issued.', 'Starting at $19.75 per troy ounce, raised to $20.67 in 1834, and $35 in 1934. In 1972, the price was raised to $38 and then to $42.22 in 1973.', 'View the all-time historical gold price from 1970 to the present via our fast loading chart. Use the zoom tool below the chart to view the view any time ...']\u001b[0m\n",
      "Thought:\u001b[32;1m\u001b[1;3mThe search results are not providing the specific price of gold yesterday in the US. I should try a different approach.\n",
      "Action: Search\n",
      "Action Input: \"gold price on [specific date] US historical data\"\u001b[0m\n",
      "Observation: \u001b[36;1m\u001b[1;3m[' entity_type: related_questions.', 'Annual Gold Prices since 1970 ; 2020, $1,771.07, $1,517.24 ; 2019, $1,393.86, $1,282.51 ; 2018, $1,269.69, $1,302.60 ; 2017, $1,258.70, $1,152.00 ...', 'Gold Price Performance USD ; 30 Days, +40.66, +1.44% ; 6 Months, +363.42, +14.56% ; 1 Year, +744.81, +35.22% ; 5 Year, +1,218.36, +74.24%.', 'Gold Price Performance USD ; 6 Months, +363.42, +14.56% ; 1 Year, +744.81, +35.22% ; 5 Year, +1,218.36, +74.24% ; 20 Years, +2,427.08, +561.33%.', 'Gold Futures historical prices: closing price, open, high, low, change and %change of the Gold Futures for the selected range of dates.', 'This data set provides the gold price over a range of timeframes (daily, weekly, monthly, annually) going back to 1978, and in the major trading, producer, and ...', 'Discover historical prices for GC=F stock on Yahoo Finance. View daily, weekly or monthly format back to when Gold Apr 25 stock was issued.', 'Starting at $19.75 per troy ounce, raised to $20.67 in 1834, and $35 in 1934. In 1972, the price was raised to $38 and then to $42.22 in 1973.', 'View the all-time historical gold price from 1970 to the present via our fast loading chart. Use the zoom tool below the chart to view the view any time ...']\u001b[0m\n",
      "Thought:\u001b[32;1m\u001b[1;3mThe search results are not providing the specific price of gold yesterday in the US. I should try a different approach.\n",
      "Action: Search\n",
      "Action Input: \"gold price on [specific date] US historical data\"\u001b[0m\n",
      "Observation: \u001b[36;1m\u001b[1;3m[' entity_type: related_questions.', 'Annual Gold Prices since 1970 ; 2020, $1,771.07, $1,517.24 ; 2019, $1,393.86, $1,282.51 ; 2018, $1,269.69, $1,302.60 ; 2017, $1,258.70, $1,152.00 ...', 'Gold Price Performance USD ; 30 Days, +40.66, +1.44% ; 6 Months, +363.42, +14.56% ; 1 Year, +744.81, +35.22% ; 5 Year, +1,218.36, +74.24%.', 'Gold Price Performance USD ; 6 Months, +363.42, +14.56% ; 1 Year, +744.81, +35.22% ; 5 Year, +1,218.36, +74.24% ; 20 Years, +2,427.08, +561.33%.', 'Gold Futures historical prices: closing price, open, high, low, change and %change of the Gold Futures for the selected range of dates.', 'This data set provides the gold price over a range of timeframes (daily, weekly, monthly, annually) going back to 1978, and in the major trading, producer, and ...', 'Discover historical prices for GC=F stock on Yahoo Finance. View daily, weekly or monthly format back to when Gold Apr 25 stock was issued.', 'Starting at $19.75 per troy ounce, raised to $20.67 in 1834, and $35 in 1934. In 1972, the price was raised to $38 and then to $42.22 in 1973.', 'View the all-time historical gold price from 1970 to the present via our fast loading chart. Use the zoom tool below the chart to view the view any time ...']\u001b[0m\n",
      "Thought:\u001b[32;1m\u001b[1;3mThe search results are not providing the specific price of gold yesterday in the US. I should try a different approach.\n",
      "Action: Search\n",
      "Action Input: \"gold price on [specific date] US historical data\"\u001b[0m\n",
      "Observation: \u001b[36;1m\u001b[1;3m[' entity_type: related_questions.', 'Annual Gold Prices since 1970 ; 2020, $1,771.07, $1,517.24 ; 2019, $1,393.86, $1,282.51 ; 2018, $1,269.69, $1,302.60 ; 2017, $1,258.70, $1,152.00 ...', 'Gold Price Performance USD ; 30 Days, +40.66, +1.44% ; 6 Months, +363.42, +14.56% ; 1 Year, +744.81, +35.22% ; 5 Year, +1,218.36, +74.24%.', 'Gold Price Performance USD ; 6 Months, +363.42, +14.56% ; 1 Year, +744.81, +35.22% ; 5 Year, +1,218.36, +74.24% ; 20 Years, +2,427.08, +561.33%.', 'Gold Futures historical prices: closing price, open, high, low, change and %change of the Gold Futures for the selected range of dates.', 'This data set provides the gold price over a range of timeframes (daily, weekly, monthly, annually) going back to 1978, and in the major trading, producer, and ...', 'Discover historical prices for GC=F stock on Yahoo Finance. View daily, weekly or monthly format back to when Gold Apr 25 stock was issued.', 'Starting at $19.75 per troy ounce, raised to $20.67 in 1834, and $35 in 1934. In 1972, the price was raised to $38 and then to $42.22 in 1973.', 'View the all-time historical gold price from 1970 to the present via our fast loading chart. Use the zoom tool below the chart to view the view any time ...']\u001b[0m\n",
      "Thought:\u001b[32;1m\u001b[1;3mThe search results are not providing the specific price of gold yesterday in the US. I should try a different approach.\n",
      "Action: Search\n",
      "Action Input: \"gold price on [specific date] US historical data\"\u001b[0m\n",
      "Observation: \u001b[36;1m\u001b[1;3m[' entity_type: related_questions.', 'Annual Gold Prices since 1970 ; 2020, $1,771.07, $1,517.24 ; 2019, $1,393.86, $1,282.51 ; 2018, $1,269.69, $1,302.60 ; 2017, $1,258.70, $1,152.00 ...', 'Gold Price Performance USD ; 30 Days, +40.66, +1.44% ; 6 Months, +363.42, +14.56% ; 1 Year, +744.81, +35.22% ; 5 Year, +1,218.36, +74.24%.', 'Gold Price Performance USD ; 6 Months, +363.42, +14.56% ; 1 Year, +744.81, +35.22% ; 5 Year, +1,218.36, +74.24% ; 20 Years, +2,427.08, +561.33%.', 'Gold Futures historical prices: closing price, open, high, low, change and %change of the Gold Futures for the selected range of dates.', 'This data set provides the gold price over a range of timeframes (daily, weekly, monthly, annually) going back to 1978, and in the major trading, producer, and ...', 'Discover historical prices for GC=F stock on Yahoo Finance. View daily, weekly or monthly format back to when Gold Apr 25 stock was issued.', 'Starting at $19.75 per troy ounce, raised to $20.67 in 1834, and $35 in 1934. In 1972, the price was raised to $38 and then to $42.22 in 1973.', 'View the all-time historical gold price from 1970 to the present via our fast loading chart. Use the zoom tool below the chart to view the view any time ...']\u001b[0m\n",
      "Thought:\u001b[32;1m\u001b[1;3mThe search results are not providing the specific price of gold yesterday in the US. I should try a different approach.\n",
      "Action: Search\n",
      "Action Input: \"gold price on [specific date] US historical data\"\u001b[0m\n",
      "Observation: \u001b[36;1m\u001b[1;3m[' entity_type: related_questions.', 'Annual Gold Prices since 1970 ; 2020, $1,771.07, $1,517.24 ; 2019, $1,393.86, $1,282.51 ; 2018, $1,269.69, $1,302.60 ; 2017, $1,258.70, $1,152.00 ...', 'Gold Price Performance USD ; 30 Days, +40.66, +1.44% ; 6 Months, +363.42, +14.56% ; 1 Year, +744.81, +35.22% ; 5 Year, +1,218.36, +74.24%.', 'Gold Price Performance USD ; 6 Months, +363.42, +14.56% ; 1 Year, +744.81, +35.22% ; 5 Year, +1,218.36, +74.24% ; 20 Years, +2,427.08, +561.33%.', 'Gold Futures historical prices: closing price, open, high, low, change and %change of the Gold Futures for the selected range of dates.', 'This data set provides the gold price over a range of timeframes (daily, weekly, monthly, annually) going back to 1978, and in the major trading, producer, and ...', 'Discover historical prices for GC=F stock on Yahoo Finance. View daily, weekly or monthly format back to when Gold Apr 25 stock was issued.', 'Starting at $19.75 per troy ounce, raised to $20.67 in 1834, and $35 in 1934. In 1972, the price was raised to $38 and then to $42.22 in 1973.', 'View the all-time historical gold price from 1970 to the present via our fast loading chart. Use the zoom tool below the chart to view the view any time ...']\u001b[0m\n",
      "Thought:\u001b[32;1m\u001b[1;3mThe search results are not providing the specific price of gold yesterday in the US. I should try a different approach.\n",
      "Action: Search\n",
      "Action Input: \"gold price on [specific date] US historical data\"\u001b[0m\n",
      "Observation: \u001b[36;1m\u001b[1;3m[' entity_type: related_questions.', 'Annual Gold Prices since 1970 ; 2020, $1,771.07, $1,517.24 ; 2019, $1,393.86, $1,282.51 ; 2018, $1,269.69, $1,302.60 ; 2017, $1,258.70, $1,152.00 ...', 'Gold Price Performance USD ; 30 Days, +40.66, +1.44% ; 6 Months, +363.42, +14.56% ; 1 Year, +744.81, +35.22% ; 5 Year, +1,218.36, +74.24%.', 'Gold Price Performance USD ; 6 Months, +363.42, +14.56% ; 1 Year, +744.81, +35.22% ; 5 Year, +1,218.36, +74.24% ; 20 Years, +2,427.08, +561.33%.', 'Gold Futures historical prices: closing price, open, high, low, change and %change of the Gold Futures for the selected range of dates.', 'This data set provides the gold price over a range of timeframes (daily, weekly, monthly, annually) going back to 1978, and in the major trading, producer, and ...', 'Discover historical prices for GC=F stock on Yahoo Finance. View daily, weekly or monthly format back to when Gold Apr 25 stock was issued.', 'Starting at $19.75 per troy ounce, raised to $20.67 in 1834, and $35 in 1934. In 1972, the price was raised to $38 and then to $42.22 in 1973.', 'View the all-time historical gold price from 1970 to the present via our fast loading chart. Use the zoom tool below the chart to view the view any time ...']\u001b[0m\n",
      "Thought:\u001b[32;1m\u001b[1;3mThe search results are not providing the specific price of gold yesterday in the US. I should try a different approach.\n",
      "Final Answer: The specific price of gold yesterday in the US is not available through the search tool.\u001b[0m\n",
      "\n",
      "\u001b[1m> Finished chain.\u001b[0m\n"
     ]
    },
    {
     "data": {
      "text/plain": [
       "'The specific price of gold yesterday in the US is not available through the search tool.'"
      ]
     },
     "execution_count": 12,
     "metadata": {},
     "output_type": "execute_result"
    }
   ],
   "source": [
    "agent.run(\"what was the price of gold yesterday in the US\")"
   ]
  },
  {
   "cell_type": "code",
   "execution_count": 13,
   "id": "916bc733-55fc-4ccc-954a-5b6422ee3884",
   "metadata": {},
   "outputs": [
    {
     "name": "stdout",
     "output_type": "stream",
     "text": [
      "200\n"
     ]
    }
   ],
   "source": [
    "from langchain.agents import initialize_agent, Tool\n",
    "from langchain.tools import tool\n",
    "from langchain.chat_models import ChatOpenAI\n",
    "from langchain.prompts import PromptTemplate\n",
    "\n",
    "# Step 1: Define a tool (calculator function)\n",
    "@tool\n",
    "def calculator_tool(input: str) -> str:\n",
    "    \"\"\"Perform calculations based on input.\"\"\"\n",
    "    try:\n",
    "        result = eval(input)  # This is a very basic calculator (Note: in real-world, avoid eval() due to security risks)\n",
    "        return str(result)\n",
    "    except Exception as e:\n",
    "        return str(e)\n",
    "\n",
    "# Step 2: Create a language model\n",
    "llm = ChatOpenAI(temperature=0.7)\n",
    "\n",
    "# Step 3: Define a prompt template for the agent to use\n",
    "prompt = PromptTemplate(\n",
    "    input_variables=[\"question\"],\n",
    "    template=\"Given the following math problem: {question}, figure out the answer by using the right tools.\"\n",
    ")\n",
    "\n",
    "# Step 4: Define the agent's tools and create the agent\n",
    "tools = [\n",
    "    Tool(\n",
    "        name=\"Calculator\",\n",
    "        func=calculator_tool,\n",
    "        description=\"Useful for doing math problems.\"\n",
    "    )\n",
    "]\n",
    "\n",
    "# Step 5: Initialize the agent\n",
    "agent = initialize_agent(\n",
    "    tools=tools,\n",
    "    agent_type=\"zero-shot-react-description\",  # This is a type of agent that reacts based on descriptions of tools.\n",
    "    llm=llm\n",
    ")\n",
    "\n",
    "# Step 6: Ask a question to the agent\n",
    "question = \"What is 25 * 4 + 100?\"\n",
    "response = agent.run(question)\n",
    "\n",
    "print(response)\n"
   ]
  },
  {
   "cell_type": "code",
   "execution_count": null,
   "id": "bb6e4aba-6751-44e1-a5d4-46183bb336d6",
   "metadata": {},
   "outputs": [],
   "source": []
  }
 ],
 "metadata": {
  "colab": {
   "provenance": []
  },
  "kernelspec": {
   "display_name": "Python 3 (ipykernel)",
   "language": "python",
   "name": "python3"
  },
  "language_info": {
   "codemirror_mode": {
    "name": "ipython",
    "version": 3
   },
   "file_extension": ".py",
   "mimetype": "text/x-python",
   "name": "python",
   "nbconvert_exporter": "python",
   "pygments_lexer": "ipython3",
   "version": "3.12.4"
  }
 },
 "nbformat": 4,
 "nbformat_minor": 5
}
